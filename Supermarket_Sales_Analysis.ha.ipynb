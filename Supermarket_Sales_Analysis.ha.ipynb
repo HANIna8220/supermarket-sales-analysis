{
   "cell_type": "markdown",
   "id": "5f3a4f6b",
   "metadata": {},
   "source": [
    "# Supermarket Sales Data Analysis 🛒📊\n",
    "\n",
    "**By: Hany Nabil**  \n",
    "**Date:** April 30, 2025\n",
    "\n",
    "This project analyzes sales data from a supermarket, including branches, customer types, sales trends, and ratings.\n",
    "\n",
    "---\n"
   ]
  },
  {
   "cell_type": "code",
   "execution_count": null,
   "id": "e32bd194",
   "metadata": {},
   "outputs": [],
   "source": [
    "\n",
    "import pandas as pd\n",
    "import matplotlib.pyplot as plt\n",
    "\n",
    "# إعدادات الرسومات\n",
    "plt.style.use('seaborn-vcolor')\n",
    "%matplotlib inline\n"
   ]
  },
  {
   "cell_type": "code",
   "execution_count": null,
   "id": "baf5be33",
   "metadata": {},
   "outputs": [],
   "source": [
    "\n",
    "# تحميل البيانات\n",
    "df = pd.read_csv(\"supermarket_sales.csv\")\n",
    "df.head()\n"
   ]
  },
  {
   "cell_type": "code",
   "execution_count": null,
   "id": "f9a32557",
   "metadata": {},
   "outputs": [],
   "source": [
    "\n",
    "# المبيعات حسب الفرع\n",
    "sales_by_branch = df.groupby('Branch')['Sales'].sum()\n",
    "sales_by_branch.plot(kind='bar', title='Total Sales by Branch')\n",
    "plt.xlabel('Branch')\n",
    "plt.ylabel('Sales')\n",
    "plt.show()\n"
   ]
  },
  {
   "cell_type": "code",
   "execution_count": null,
   "id": "3fdececf",
   "metadata": {},
   "outputs": [],
   "source": [
    "\n",
    "# متوسط الفاتورة حسب الجنس\n",
    "avg_by_gender = df.groupby('Gender')['Sales'].mean()\n",
    "avg_by_gender.plot(kind='bar', title='Average Sales by Gender', color=['orange', 'green'])\n",
    "plt.xlabel('Gender')\n",
    "plt.ylabel('Average Sales')\n",
    "plt.show()\n"
   ]
  },
  {
   "cell_type": "code",
   "execution_count": null,
   "id": "f59ca2f2",
   "metadata": {},
   "outputs": [],
   "source": [
    "\n",
    "# المبيعات حسب نوع المنتج\n",
    "sales_by_product = df.groupby('Product line')['Sales'].sum().sort_values(ascending=False)\n",
    "sales_by_product.plot(kind='bar', title='Sales by Product Line', color='skyblue')\n",
    "plt.xlabel('Product Line')\n",
    "plt.ylabel('Sales')\n",
    "plt.xticks(rotation=45)\n",
    "plt.tight_layout()\n",
    "plt.show()\n"
   ]
  },
  {
   "cell_type": "code",
   "execution_count": null,
   "id": "e27af8c9",
   "metadata": {},
   "outputs": [],
   "source": [
    "\n",
    "# توزيع طرق الدفع\n",
    "payment_counts = df['Payment'].value_counts()\n",
    "payment_counts.plot(kind='pie', autopct='%1.1f%%', title='Payment Methods Distribution', figsize=(6,6))\n",
    "plt.ylabel('')\n",
    "plt.show()\n"
   ]
  },
  {
   "cell_type": "code",
   "execution_count": null,
   "id": "b2ce9cb7",
   "metadata": {},
   "outputs": [],
   "source": [
    "\n",
    "# المبيعات حسب المدينة\n",
    "sales_by_city = df.groupby('City')['Sales'].sum().sort_values(ascending=False)\n",
    "sales_by_city.plot(kind='bar', title='Sales by City', color='seagreen')\n",
    "plt.xlabel('City')\n",
    "plt.ylabel('Total Sales')\n",
    "plt.tight_layout()\n",
    "plt.show()\n"
   ]
  },
  {
   "cell_type": "code",
   "execution_count": null,
   "id": "6b994fae",
   "metadata": {},
   "outputs": [],
   "source": [
    "\n",
    "# استخراج الساعة\n",
    "df['Hour'] = pd.to_datetime(df['Time']).dt.hour\n",
    "sales_by_hour = df.groupby('Hour').size()\n",
    "sales_by_hour.plot(kind='bar', title='Sales Frequency by Hour', color='coral')\n",
    "plt.xlabel('Hour of Day')\n",
    "plt.ylabel('Number of Sales')\n",
    "plt.tight_layout()\n",
    "plt.show()\n"
   ]
  },
  {
   "cell_type": "code",
   "execution_count": null,
   "id": "af83804e",
   "metadata": {},
   "outputs": [],
   "source": [
    "\n",
    "# التقييم حسب الجنس\n",
    "rating_by_gender = df.groupby('Gender')['Rating'].mean()\n",
    "rating_by_gender.plot(kind='bar', title='Average Rating by Gender', color=['purple', 'cyan'])\n",
    "plt.xlabel('Gender')\n",
    "plt.ylabel('Average Rating')\n",
    "plt.tight_layout()\n",
    "plt.show()\n"
   ]
  }
 ],
 "metadata": {
  "language_info": {
   "name": "python"
  }
 },
 "nbformat": 4,
 "nbformat_minor": 5
}
